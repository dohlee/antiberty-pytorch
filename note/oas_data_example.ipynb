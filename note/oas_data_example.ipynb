{
 "cells": [
  {
   "cell_type": "code",
   "execution_count": 1,
   "metadata": {},
   "outputs": [],
   "source": [
    "import pandas as pd"
   ]
  },
  {
   "cell_type": "code",
   "execution_count": 4,
   "metadata": {},
   "outputs": [],
   "source": [
    "meta = pd.read_csv('/data/project/dohoon/antiberty-pytorch/ERR2843421_Heavy_IGHA.csv', skiprows=1)"
   ]
  },
  {
   "cell_type": "code",
   "execution_count": 9,
   "metadata": {},
   "outputs": [
    {
     "data": {
      "text/plain": [
       "25363"
      ]
     },
     "execution_count": 9,
     "metadata": {},
     "output_type": "execute_result"
    }
   ],
   "source": [
    "len(meta)"
   ]
  },
  {
   "cell_type": "code",
   "execution_count": 14,
   "metadata": {},
   "outputs": [],
   "source": [
    "with open('../ERR2843421.list', 'w') as outFile:\n",
    "    print('\\n'.join(meta.sequence.values), file=outFile)"
   ]
  },
  {
   "cell_type": "code",
   "execution_count": 12,
   "metadata": {},
   "outputs": [
    {
     "data": {
      "text/html": [
       "<div>\n",
       "<style scoped>\n",
       "    .dataframe tbody tr th:only-of-type {\n",
       "        vertical-align: middle;\n",
       "    }\n",
       "\n",
       "    .dataframe tbody tr th {\n",
       "        vertical-align: top;\n",
       "    }\n",
       "\n",
       "    .dataframe thead th {\n",
       "        text-align: right;\n",
       "    }\n",
       "</style>\n",
       "<table border=\"1\" class=\"dataframe\">\n",
       "  <thead>\n",
       "    <tr style=\"text-align: right;\">\n",
       "      <th></th>\n",
       "      <th>sequence</th>\n",
       "      <th>locus</th>\n",
       "      <th>stop_codon</th>\n",
       "      <th>vj_in_frame</th>\n",
       "      <th>v_frameshift</th>\n",
       "      <th>productive</th>\n",
       "      <th>rev_comp</th>\n",
       "      <th>complete_vdj</th>\n",
       "      <th>v_call</th>\n",
       "      <th>d_call</th>\n",
       "      <th>...</th>\n",
       "      <th>cdr3_start</th>\n",
       "      <th>cdr3_end</th>\n",
       "      <th>np1</th>\n",
       "      <th>np1_length</th>\n",
       "      <th>np2</th>\n",
       "      <th>np2_length</th>\n",
       "      <th>c_region</th>\n",
       "      <th>Redundancy</th>\n",
       "      <th>ANARCI_numbering</th>\n",
       "      <th>ANARCI_status</th>\n",
       "    </tr>\n",
       "  </thead>\n",
       "  <tbody>\n",
       "    <tr>\n",
       "      <th>0</th>\n",
       "      <td>AGCTCTGGGAGAGGAGCCCCAGCCCTGAAATTCCCAAGTGTTTCCA...</td>\n",
       "      <td>H</td>\n",
       "      <td>F</td>\n",
       "      <td>T</td>\n",
       "      <td>F</td>\n",
       "      <td>T</td>\n",
       "      <td>T</td>\n",
       "      <td>T</td>\n",
       "      <td>IGHV3-43*02</td>\n",
       "      <td>IGHD3-16*01</td>\n",
       "      <td>...</td>\n",
       "      <td>423.0</td>\n",
       "      <td>452.0</td>\n",
       "      <td>T</td>\n",
       "      <td>1.0</td>\n",
       "      <td>TTAA</td>\n",
       "      <td>4.0</td>\n",
       "      <td>CATCCCCGACCAGCCCCAAGGTCTTCCCG</td>\n",
       "      <td>4</td>\n",
       "      <td>{'fwh1': {'1 ': 'E', '2 ': 'V', '3 ': 'Q', '4 ...</td>\n",
       "      <td>|Deletions: 10, 73||||</td>\n",
       "    </tr>\n",
       "    <tr>\n",
       "      <th>1</th>\n",
       "      <td>AGCTCTGGGAGAGGAGCCCCAGCCCTGAGATTCCCAGGTGTTTCCA...</td>\n",
       "      <td>H</td>\n",
       "      <td>F</td>\n",
       "      <td>T</td>\n",
       "      <td>F</td>\n",
       "      <td>T</td>\n",
       "      <td>T</td>\n",
       "      <td>F</td>\n",
       "      <td>IGHV3-9*01</td>\n",
       "      <td>IGHD5/OR15-5a*01</td>\n",
       "      <td>...</td>\n",
       "      <td>426.0</td>\n",
       "      <td>470.0</td>\n",
       "      <td>CCAGAGGGA</td>\n",
       "      <td>9.0</td>\n",
       "      <td>CTGGG</td>\n",
       "      <td>5.0</td>\n",
       "      <td>TGCATCCCCGACCAGCCCCAAGGTCTTCCCG</td>\n",
       "      <td>1</td>\n",
       "      <td>{'fwh1': {'1 ': 'E', '2 ': 'V', '3 ': 'Q', '4 ...</td>\n",
       "      <td>Unusual residue: X|Deletions: 10, 73||||</td>\n",
       "    </tr>\n",
       "    <tr>\n",
       "      <th>2</th>\n",
       "      <td>GGCTTTCTGAGAGTCATGGATCTCATGTGCAAGAAAATGAAGCACC...</td>\n",
       "      <td>H</td>\n",
       "      <td>F</td>\n",
       "      <td>T</td>\n",
       "      <td>F</td>\n",
       "      <td>T</td>\n",
       "      <td>T</td>\n",
       "      <td>T</td>\n",
       "      <td>IGHV4-39*01</td>\n",
       "      <td>NaN</td>\n",
       "      <td>...</td>\n",
       "      <td>382.0</td>\n",
       "      <td>399.0</td>\n",
       "      <td>GGCCCCG</td>\n",
       "      <td>7.0</td>\n",
       "      <td>NaN</td>\n",
       "      <td>NaN</td>\n",
       "      <td>CATCCCCGACCAGCCCCAAGGTCTTCCCG</td>\n",
       "      <td>2</td>\n",
       "      <td>{'fwh1': {'1 ': 'Q', '2 ': 'L', '3 ': 'Q', '4 ...</td>\n",
       "      <td>|Deletions: 10, 55, 73||||</td>\n",
       "    </tr>\n",
       "  </tbody>\n",
       "</table>\n",
       "<p>3 rows × 97 columns</p>\n",
       "</div>"
      ],
      "text/plain": [
       "                                            sequence locus stop_codon  \\\n",
       "0  AGCTCTGGGAGAGGAGCCCCAGCCCTGAAATTCCCAAGTGTTTCCA...     H          F   \n",
       "1  AGCTCTGGGAGAGGAGCCCCAGCCCTGAGATTCCCAGGTGTTTCCA...     H          F   \n",
       "2  GGCTTTCTGAGAGTCATGGATCTCATGTGCAAGAAAATGAAGCACC...     H          F   \n",
       "\n",
       "  vj_in_frame v_frameshift productive rev_comp complete_vdj       v_call  \\\n",
       "0           T            F          T        T            T  IGHV3-43*02   \n",
       "1           T            F          T        T            F   IGHV3-9*01   \n",
       "2           T            F          T        T            T  IGHV4-39*01   \n",
       "\n",
       "             d_call  ... cdr3_start cdr3_end        np1 np1_length    np2  \\\n",
       "0       IGHD3-16*01  ...      423.0    452.0          T        1.0   TTAA   \n",
       "1  IGHD5/OR15-5a*01  ...      426.0    470.0  CCAGAGGGA        9.0  CTGGG   \n",
       "2               NaN  ...      382.0    399.0    GGCCCCG        7.0    NaN   \n",
       "\n",
       "   np2_length                         c_region  Redundancy  \\\n",
       "0         4.0    CATCCCCGACCAGCCCCAAGGTCTTCCCG           4   \n",
       "1         5.0  TGCATCCCCGACCAGCCCCAAGGTCTTCCCG           1   \n",
       "2         NaN    CATCCCCGACCAGCCCCAAGGTCTTCCCG           2   \n",
       "\n",
       "                                    ANARCI_numbering  \\\n",
       "0  {'fwh1': {'1 ': 'E', '2 ': 'V', '3 ': 'Q', '4 ...   \n",
       "1  {'fwh1': {'1 ': 'E', '2 ': 'V', '3 ': 'Q', '4 ...   \n",
       "2  {'fwh1': {'1 ': 'Q', '2 ': 'L', '3 ': 'Q', '4 ...   \n",
       "\n",
       "                              ANARCI_status  \n",
       "0                    |Deletions: 10, 73||||  \n",
       "1  Unusual residue: X|Deletions: 10, 73||||  \n",
       "2                |Deletions: 10, 55, 73||||  \n",
       "\n",
       "[3 rows x 97 columns]"
      ]
     },
     "execution_count": 12,
     "metadata": {},
     "output_type": "execute_result"
    }
   ],
   "source": [
    "meta.head(3)"
   ]
  },
  {
   "cell_type": "markdown",
   "metadata": {},
   "source": [
    "### Make data manifest"
   ]
  },
  {
   "cell_type": "code",
   "execution_count": 15,
   "metadata": {},
   "outputs": [
    {
     "name": "stdout",
     "output_type": "stream",
     "text": [
      "wget http://opig.stats.ox.ac.uk/webapps/ngsdb/unpaired/Eliyahu_2018/csv/ERR2843400_Heavy_IGHE.csv.gz\n",
      "wget http://opig.stats.ox.ac.uk/webapps/ngsdb/unpaired/Eliyahu_2018/csv/ERR2843418_Heavy_IGHA.csv.gz\n",
      "wget http://opig.stats.ox.ac.uk/webapps/ngsdb/unpaired/Eliyahu_2018/csv/ERR2843418_Heavy_Bulk.csv.gz\n",
      "wget http://opig.stats.ox.ac.uk/webapps/ngsdb/unpaired/Eliyahu_2018/csv/ERR2843403_Heavy_Bulk.csv.gz\n",
      "wget http://opig.stats.ox.ac.uk/webapps/ngsdb/unpaired/Eliyahu_2018/csv/ERR2843421_Heavy_IGHA.csv.gz\n",
      "wget http://opig.stats.ox.ac.uk/webapps/ngsdb/unpaired/Eliyahu_2018/csv/ERR2843416_Heavy_Bulk.csv.gz\n",
      "wget http://opig.stats.ox.ac.uk/webapps/ngsdb/unpaired/Eliyahu_2018/csv/ERR2843392_Heavy_IGHD.csv.gz\n",
      "wget http://opig.stats.ox.ac.uk/webapps/ngsdb/unpaired/Eliyahu_2018/csv/ERR2843414_Heavy_Bulk.csv.gz\n",
      "wget http://opig.stats.ox.ac.uk/webapps/ngsdb/unpaired/Eliyahu_2018/csv/ERR2843405_Heavy_IGHG.csv.gz\n",
      "wget http://opig.stats.ox.ac.uk/webapps/ngsdb/unpaired/Eliyahu_2018/csv/ERR2843386_Heavy_IGHD.csv.gz\n"
     ]
    }
   ],
   "source": [
    "!head ../data/bulk_download_unpaired.sh"
   ]
  },
  {
   "cell_type": "code",
   "execution_count": 17,
   "metadata": {},
   "outputs": [
    {
     "data": {
      "text/html": [
       "<div>\n",
       "<style scoped>\n",
       "    .dataframe tbody tr th:only-of-type {\n",
       "        vertical-align: middle;\n",
       "    }\n",
       "\n",
       "    .dataframe tbody tr th {\n",
       "        vertical-align: top;\n",
       "    }\n",
       "\n",
       "    .dataframe thead th {\n",
       "        text-align: right;\n",
       "    }\n",
       "</style>\n",
       "<table border=\"1\" class=\"dataframe\">\n",
       "  <thead>\n",
       "    <tr style=\"text-align: right;\">\n",
       "      <th></th>\n",
       "      <th>seq_type</th>\n",
       "      <th>study</th>\n",
       "      <th>filename</th>\n",
       "    </tr>\n",
       "  </thead>\n",
       "  <tbody>\n",
       "    <tr>\n",
       "      <th>0</th>\n",
       "      <td>unpaired</td>\n",
       "      <td>Eliyahu_2018</td>\n",
       "      <td>ERR2843400_Heavy_IGHE</td>\n",
       "    </tr>\n",
       "    <tr>\n",
       "      <th>1</th>\n",
       "      <td>unpaired</td>\n",
       "      <td>Eliyahu_2018</td>\n",
       "      <td>ERR2843418_Heavy_IGHA</td>\n",
       "    </tr>\n",
       "    <tr>\n",
       "      <th>2</th>\n",
       "      <td>unpaired</td>\n",
       "      <td>Eliyahu_2018</td>\n",
       "      <td>ERR2843418_Heavy_Bulk</td>\n",
       "    </tr>\n",
       "  </tbody>\n",
       "</table>\n",
       "</div>"
      ],
      "text/plain": [
       "   seq_type         study               filename\n",
       "0  unpaired  Eliyahu_2018  ERR2843400_Heavy_IGHE\n",
       "1  unpaired  Eliyahu_2018  ERR2843418_Heavy_IGHA\n",
       "2  unpaired  Eliyahu_2018  ERR2843418_Heavy_Bulk"
      ]
     },
     "execution_count": 17,
     "metadata": {},
     "output_type": "execute_result"
    }
   ],
   "source": [
    "types, studies, filenames = [], [], []\n",
    "\n",
    "urls = []\n",
    "with open('../data/bulk_download_unpaired.sh') as inFile:\n",
    "    urls += [l.strip().split()[1] for l in inFile.readlines()]\n",
    "with open('../data/bulk_download_paired.sh') as inFile:\n",
    "    urls += [l.strip().split()[1] for l in inFile.readlines()]\n",
    "\n",
    "for url in urls:\n",
    "    types.append(url.split('/')[-4])\n",
    "    studies.append(url.split('/')[-3])\n",
    "    filenames.append(url.split('/')[-1].split('.')[0])\n",
    "    \n",
    "df = pd.DataFrame({\n",
    "    'seq_type': types,\n",
    "    'study': studies,\n",
    "    'filename': filenames\n",
    "})\n",
    "\n",
    "df.head(3)"
   ]
  },
  {
   "cell_type": "code",
   "execution_count": 19,
   "metadata": {},
   "outputs": [],
   "source": [
    "df.to_csv('../data/manifest_230324.csv', index=False)"
   ]
  },
  {
   "cell_type": "code",
   "execution_count": 22,
   "metadata": {},
   "outputs": [
    {
     "data": {
      "text/html": [
       "<div>\n",
       "<style scoped>\n",
       "    .dataframe tbody tr th:only-of-type {\n",
       "        vertical-align: middle;\n",
       "    }\n",
       "\n",
       "    .dataframe tbody tr th {\n",
       "        vertical-align: top;\n",
       "    }\n",
       "\n",
       "    .dataframe thead th {\n",
       "        text-align: right;\n",
       "    }\n",
       "</style>\n",
       "<table border=\"1\" class=\"dataframe\">\n",
       "  <thead>\n",
       "    <tr style=\"text-align: right;\">\n",
       "      <th></th>\n",
       "      <th>seq_type</th>\n",
       "      <th>study</th>\n",
       "      <th>filename</th>\n",
       "    </tr>\n",
       "  </thead>\n",
       "  <tbody>\n",
       "    <tr>\n",
       "      <th>12081</th>\n",
       "      <td>unpaired</td>\n",
       "      <td>Galson_2015a</td>\n",
       "      <td>SRR3099401_Heavy_IGHM</td>\n",
       "    </tr>\n",
       "    <tr>\n",
       "      <th>291</th>\n",
       "      <td>unpaired</td>\n",
       "      <td>Schultheiss_2020</td>\n",
       "      <td>ERR4337035_Heavy_Bulk</td>\n",
       "    </tr>\n",
       "    <tr>\n",
       "      <th>10814</th>\n",
       "      <td>unpaired</td>\n",
       "      <td>Briney_2019</td>\n",
       "      <td>SRR8283768_Heavy_IGHD</td>\n",
       "    </tr>\n",
       "    <tr>\n",
       "      <th>3647</th>\n",
       "      <td>unpaired</td>\n",
       "      <td>Soto_2019</td>\n",
       "      <td>SRR8365361_1_Heavy_IGHM</td>\n",
       "    </tr>\n",
       "    <tr>\n",
       "      <th>1372</th>\n",
       "      <td>unpaired</td>\n",
       "      <td>Galson_2015</td>\n",
       "      <td>SRR3990897_Heavy_Bulk</td>\n",
       "    </tr>\n",
       "    <tr>\n",
       "      <th>...</th>\n",
       "      <td>...</td>\n",
       "      <td>...</td>\n",
       "      <td>...</td>\n",
       "    </tr>\n",
       "    <tr>\n",
       "      <th>4936</th>\n",
       "      <td>unpaired</td>\n",
       "      <td>Kim_2020</td>\n",
       "      <td>SRR12326744_1_Heavy_IGHA</td>\n",
       "    </tr>\n",
       "    <tr>\n",
       "      <th>6817</th>\n",
       "      <td>unpaired</td>\n",
       "      <td>Ellebedy_2016</td>\n",
       "      <td>SRR3620118_Heavy_IGHM</td>\n",
       "    </tr>\n",
       "    <tr>\n",
       "      <th>15245</th>\n",
       "      <td>unpaired</td>\n",
       "      <td>Waltari_2018</td>\n",
       "      <td>SRR5811779_1_Heavy_IGHE</td>\n",
       "    </tr>\n",
       "    <tr>\n",
       "      <th>8768</th>\n",
       "      <td>unpaired</td>\n",
       "      <td>Chen_2020</td>\n",
       "      <td>SRR11937625_1_Light_Bulk</td>\n",
       "    </tr>\n",
       "    <tr>\n",
       "      <th>1624</th>\n",
       "      <td>unpaired</td>\n",
       "      <td>Kuri-Cervantes_2020</td>\n",
       "      <td>SRR12081538_Heavy_Bulk</td>\n",
       "    </tr>\n",
       "  </tbody>\n",
       "</table>\n",
       "<p>1579 rows × 3 columns</p>\n",
       "</div>"
      ],
      "text/plain": [
       "       seq_type                study                  filename\n",
       "12081  unpaired         Galson_2015a     SRR3099401_Heavy_IGHM\n",
       "291    unpaired     Schultheiss_2020     ERR4337035_Heavy_Bulk\n",
       "10814  unpaired          Briney_2019     SRR8283768_Heavy_IGHD\n",
       "3647   unpaired            Soto_2019   SRR8365361_1_Heavy_IGHM\n",
       "1372   unpaired          Galson_2015     SRR3990897_Heavy_Bulk\n",
       "...         ...                  ...                       ...\n",
       "4936   unpaired             Kim_2020  SRR12326744_1_Heavy_IGHA\n",
       "6817   unpaired        Ellebedy_2016     SRR3620118_Heavy_IGHM\n",
       "15245  unpaired         Waltari_2018   SRR5811779_1_Heavy_IGHE\n",
       "8768   unpaired            Chen_2020  SRR11937625_1_Light_Bulk\n",
       "1624   unpaired  Kuri-Cervantes_2020    SRR12081538_Heavy_Bulk\n",
       "\n",
       "[1579 rows x 3 columns]"
      ]
     },
     "execution_count": 22,
     "metadata": {},
     "output_type": "execute_result"
    }
   ],
   "source": [
    "df.sample(frac=0.1, random_state=42)"
   ]
  },
  {
   "cell_type": "code",
   "execution_count": 23,
   "metadata": {},
   "outputs": [
    {
     "data": {
      "text/plain": [
       "(15789, 3)"
      ]
     },
     "execution_count": 23,
     "metadata": {},
     "output_type": "execute_result"
    }
   ],
   "source": [
    "df.shape"
   ]
  }
 ],
 "metadata": {
  "kernelspec": {
   "display_name": "dohoon",
   "language": "python",
   "name": "dohoon"
  },
  "language_info": {
   "codemirror_mode": {
    "name": "ipython",
    "version": 3
   },
   "file_extension": ".py",
   "mimetype": "text/x-python",
   "name": "python",
   "nbconvert_exporter": "python",
   "pygments_lexer": "ipython3",
   "version": "3.9.13"
  }
 },
 "nbformat": 4,
 "nbformat_minor": 4
}
